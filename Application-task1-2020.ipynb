{
 "cells": [
  {
   "cell_type": "markdown",
   "metadata": {},
   "source": [
    "## This Notebook shows my solution to task 1 from the application to the 2020 qosf mentoring"
   ]
  },
  {
   "cell_type": "code",
   "execution_count": 21,
   "metadata": {},
   "outputs": [],
   "source": [
    "from IPython.display import Image"
   ]
  },
  {
   "cell_type": "markdown",
   "metadata": {},
   "source": [
    "# The task reads:\n",
    "Implement, on a quantum simulator of your choice, the following 4 qubits state |$\\psi$($\\theta$)>:\n",
    "![title](img/Imagen1.png)\n",
    "Where the number of layers, denoted with L, has to be considered as a parameter. We call ¨Layer¨ the combination of 1 yellow + 1 green block, so, for example, U1 + U2 is a layer. The odd/even variational blocks are given by:\n",
    "\n",
    "\n",
    "Even blocks\n",
    "![title](img/Imagen2.png)\n",
    "\n",
    "\n",
    "Odd blocks\n",
    "![title](img/Imagen3.png)\n",
    "\n",
    "The angles $\\theta_{i,n}$, are variational parameters, lying in the interval (0, 2$\\pi$), initialized at random. Double qubit gates are CZ gates.\n",
    "\n",
    "Report with a plot, as a function of the number of layers, L, the minimum distance\n",
    "\n",
    "$\\epsilon$= $\\min_\\theta$ || |$\\psi$($\\theta$)> - |$\\varphi$> ||\n",
    "\n",
    "Where |$\\varphi$> is a randomly generated vector on 4 qubits and the norm || | $\\nu$> ||, of a state | $\\nu$>, simply denotes the square root of the sum of the modulus square of the components of |$\\nu$ >. The right set of parameters $\\theta_{i,n}$ can be found via any method of choice (e.g. grid-search or gradient descent)\n",
    "\n",
    "Bonus question:\n",
    "Try using other gates for the parametrized gates and see what happens."
   ]
  },
  {
   "cell_type": "markdown",
   "metadata": {},
   "source": [
    "# Solution"
   ]
  },
  {
   "cell_type": "code",
   "execution_count": 2,
   "metadata": {},
   "outputs": [],
   "source": [
    "# Import all the necessary libraries and erase the warnings that come up\n",
    "import warnings\n",
    "warnings.filterwarnings('ignore')\n",
    "from qiskit import *\n",
    "import numpy as np\n",
    "from numpy import random as rd\n",
    "from numpy import pi\n",
    "import cmath\n",
    "import matplotlib.pyplot as plt"
   ]
  },
  {
   "cell_type": "markdown",
   "metadata": {},
   "source": [
    "# Definition of the different functions needed"
   ]
  },
  {
   "cell_type": "code",
   "execution_count": 3,
   "metadata": {},
   "outputs": [],
   "source": [
    "# Function to create an odd block as a function of i (the block number)\n",
    "def oddBlock(i,Angles):\n",
    "    oqc=QuantumCircuit(4)\n",
    "    oqc.rx(Angles[i-1],[0,1,2,3])\n",
    "    return oqc"
   ]
  },
  {
   "cell_type": "code",
   "execution_count": 4,
   "metadata": {},
   "outputs": [],
   "source": [
    "# Function to create an even block as a function of i (the block number)\n",
    "def evenBlock(i,Angles):\n",
    "    eqc=QuantumCircuit(4)\n",
    "    eqc.rz(Angles[i-1],[0,1,2,3])\n",
    "    for ind in range(3):\n",
    "        eqc.cz(0,ind+1)\n",
    "    for ind in range(2):\n",
    "        eqc.cz(1,ind+2)\n",
    "    eqc.cz(2,3)\n",
    "    return eqc"
   ]
  },
  {
   "cell_type": "code",
   "execution_count": 5,
   "metadata": {},
   "outputs": [],
   "source": [
    "# Function to compose the circuit with all the necessary layers\n",
    "def circBuilder(qcc,L,Angles):\n",
    "    for ind in range(L):\n",
    "        oqc=oddBlock(2*ind+1,Angles)     # Create odd block\n",
    "        eqc=evenBlock(2*ind+2,Angles)    # Create even block\n",
    "        qcc=qcc.compose(oqc)\n",
    "        qcc=qcc.compose(eqc)\n",
    "    return qcc"
   ]
  },
  {
   "cell_type": "code",
   "execution_count": 6,
   "metadata": {},
   "outputs": [],
   "source": [
    "# Function to calculate the norm of a vector\n",
    "def norm(vect):\n",
    "    nrm=np.sqrt(sum(abs(vect)**2))\n",
    "    return nrm"
   ]
  },
  {
   "cell_type": "code",
   "execution_count": 7,
   "metadata": {},
   "outputs": [],
   "source": [
    "# Function to define the random sets of angles for grid search\n",
    "def rand_angle_set(L,S):\n",
    "    # S: size of the grid\n",
    "    Angle_Sets=[[] for ind in range(S)]\n",
    "    for ind in range(S):\n",
    "        Angle_Sets[ind]=rd.random(L*2)*2*pi # Vector containing a random set of angles\n",
    "    return Angle_Sets"
   ]
  },
  {
   "cell_type": "code",
   "execution_count": 8,
   "metadata": {},
   "outputs": [],
   "source": [
    "# Function to implement the grid search \n",
    "# Returns the minimum norm of the difference between psi and phi for each angle set\n",
    "def grid_search(Angle_Sets,L,backend,Shots):\n",
    "    norms=[]\n",
    "    \n",
    "    for ind in range(len(Angle_Sets)):\n",
    "        \n",
    "        # Building of the circuit\n",
    "        qc=QuantumCircuit(4)          # Create a 4 qubit quantum circuit with each qubit initialized at 0\n",
    "        qc=circBuilder(qc,L,Angle_Sets[ind])          # Compose the circuit\n",
    "        if ind==0:\n",
    "            qc.draw(output = 'mpl')       # Draw the circuit just the first time\n",
    "        \n",
    "        # Getting the statevector (psi)    \n",
    "        job = execute(qc, backend, shots =Shots)\n",
    "        psi = job.result().get_statevector(qc)\n",
    "        #print(psi)\n",
    "        \n",
    "        # Getting the norm\n",
    "        new_norm=norm(psi-phi)\n",
    "        norms.append(new_norm)\n",
    "    \n",
    "    min_norm=min(norms)\n",
    "    \n",
    "    return min_norm"
   ]
  },
  {
   "cell_type": "markdown",
   "metadata": {},
   "source": [
    "# Define random vector, constants and simulation parameters"
   ]
  },
  {
   "cell_type": "code",
   "execution_count": 10,
   "metadata": {},
   "outputs": [
    {
     "name": "stdout",
     "output_type": "stream",
     "text": [
      "[-0.16751263+0.06077054j -0.30022062-0.17344471j -0.22221798+0.05365751j\n",
      "  0.28910018-0.03256682j  0.17612473-0.08755541j -0.07514098-0.12216184j\n",
      " -0.02869308+0.12641282j  0.35339876+0.00424106j  0.06007078+0.09842448j\n",
      " -0.08704557-0.04219115j -0.16411208+0.21354916j -0.17334097-0.2632974j\n",
      "  0.15330558+0.38055971j  0.14811474+0.16262662j  0.08651063+0.19670866j\n",
      " -0.07131261-0.21823082j]\n"
     ]
    }
   ],
   "source": [
    "# Randomly generated vector on 4 qubits\n",
    "rs=quantum_info.random_statevector(2**4)\n",
    "phi=rs.data\n",
    "print(phi)"
   ]
  },
  {
   "cell_type": "code",
   "execution_count": 19,
   "metadata": {},
   "outputs": [],
   "source": [
    "# We define the constants\n",
    "S=100 # Size of the grid for grid search"
   ]
  },
  {
   "cell_type": "code",
   "execution_count": 12,
   "metadata": {},
   "outputs": [],
   "source": [
    "# Define simulation parameters\n",
    "backend = Aer.get_backend('statevector_simulator')\n",
    "shots=1000"
   ]
  },
  {
   "cell_type": "code",
   "execution_count": 27,
   "metadata": {},
   "outputs": [],
   "source": [
    "# Define the set of layers to simulate\n",
    "layers_set=[*range(1,51)]"
   ]
  },
  {
   "cell_type": "markdown",
   "metadata": {},
   "source": [
    "# Graphing the minimum distance as a function of L"
   ]
  },
  {
   "cell_type": "code",
   "execution_count": null,
   "metadata": {},
   "outputs": [],
   "source": [
    "min_norms=[]\n",
    "\n",
    "for L in layers_set:\n",
    "    Angle_Sets=rand_angle_set(L,S)\n",
    "    min_norm=grid_search(Angle_Sets,L,backend,shots)\n",
    "    min_norms.append(min_norm)\n",
    "\n",
    "plt.scatter(layers_set, min_norms)\n",
    "plt.xlabel('Number of layers')\n",
    "plt.ylabel('Minimum distance (epsilon)')\n",
    "plt.title('Minimum distance as a function of the number of layers')\n",
    "plt.show()"
   ]
  },
  {
   "cell_type": "markdown",
   "metadata": {},
   "source": [
    "# Conclusion"
   ]
  },
  {
   "cell_type": "markdown",
   "metadata": {},
   "source": [
    "There doesn't seem to be a relationship between the number of layers and the minimum distance."
   ]
  },
  {
   "cell_type": "code",
   "execution_count": null,
   "metadata": {},
   "outputs": [],
   "source": []
  }
 ],
 "metadata": {
  "kernelspec": {
   "display_name": "Python 3",
   "language": "python",
   "name": "python3"
  },
  "language_info": {
   "codemirror_mode": {
    "name": "ipython",
    "version": 3
   },
   "file_extension": ".py",
   "mimetype": "text/x-python",
   "name": "python",
   "nbconvert_exporter": "python",
   "pygments_lexer": "ipython3",
   "version": "3.7.6"
  }
 },
 "nbformat": 4,
 "nbformat_minor": 4
}
